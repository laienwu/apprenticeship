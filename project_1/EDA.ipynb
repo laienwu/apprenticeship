{
 "cells": [
  {
   "cell_type": "markdown",
   "id": "d0e4c537",
   "metadata": {},
   "source": [
    "# description"
   ]
  },
  {
   "cell_type": "markdown",
   "id": "8542579de5fc5a97",
   "metadata": {},
   "source": [
    "\n",
    "Une analyse des différents indicateurs de vente, EDA, Segmentation\n",
    "\n",
    "\n",
    "1- Nettoyage et de préparation des données :\n",
    "Validation des données : Assurez-vous que les colonnes, types de données et valeurs respectent les contraintes du schéma cible.\n",
    "Détection des anomalies : Détecter et traiter les incohérences dans les fichiers produits, ventes, clients (ex : valeurs erronées, valeurs aberrantes, produits vendus mais non présents dans la table products, anomalies dans les prix, etc.).    Transformation des données : Appliquer les transformations nécessaires (ex : mapping des sous catégories, ajout de nvelles colonnes, etc ).\n",
    "\n",
    "2- Prendre en compte la nouvelle colonne sub_category dans le schéma de données du datamart des ventes et mettre à jour le pipeline ETL pour que la nouvelle sous-catégorie soit incluse lors du chargement des données de la table des ventes.\n",
    "\n",
    "3- faire une EDA (analyse exploratoire) et vérifier /détecter la présence d’anomalies potentielles .\n",
    "\n",
    "4- Tester et valider les modifications pour s’assurer que les données sont correctement intégrées. "
   ]
  },
  {
   "cell_type": "markdown",
   "id": "24775440",
   "metadata": {},
   "source": [
    "# Imports"
   ]
  },
  {
   "cell_type": "code",
   "execution_count": null,
   "id": "f36993e1",
   "metadata": {
    "jupyter": {
     "is_executing": true
    }
   },
   "outputs": [],
   "source": [
    "import os\n",
    "import pandas as pd\n",
    "import numpy as np\n",
    "from scipy import stats\n",
    "import seaborn as sns\n",
    "from matplotlib import pyplot as plt\n",
    "import plotly.express as px\n",
    "import plotly.graph_objs as go\n",
    "from pathlib import Path\n",
    "import plotly.io as pio\n",
    "from datetime import datetime"
   ]
  },
  {
   "cell_type": "code",
   "execution_count": null,
   "id": "a9b72549",
   "metadata": {
    "ExecuteTime": {
     "end_time": "2024-10-15T09:33:06.793331Z",
     "start_time": "2024-10-15T09:33:06.787896Z"
    }
   },
   "outputs": [],
   "source": [
    "path=Path('./data')\n",
    "os.listdir(path)"
   ]
  },
  {
   "cell_type": "code",
   "execution_count": null,
   "id": "5ba5e072",
   "metadata": {
    "ExecuteTime": {
     "end_time": "2024-10-15T09:33:07.112104Z",
     "start_time": "2024-10-15T09:33:06.837394Z"
    }
   },
   "outputs": [],
   "source": [
    "#todo add dtype default dict for better performance\n",
    "cust=pd.read_csv(path/'clients.csv',sep=\";\", encoding=\"utf8\")\n",
    "products=pd.read_csv(path/'produits_sous-categorie.csv',sep=\",\", encoding=\"utf8\")\n",
    "tran=pd.read_csv(path/'ventes.csv',sep=\",\", encoding=\"utf8\")"
   ]
  },
  {
   "cell_type": "code",
   "execution_count": null,
   "id": "8b4e7bcb",
   "metadata": {
    "ExecuteTime": {
     "end_time": "2024-10-15T09:33:07.131921Z",
     "start_time": "2024-10-15T09:33:07.129258Z"
    }
   },
   "outputs": [],
   "source": [
    "#set all dataframe into a dict\n",
    "ddf={'customs':cust,\"products\":products,\"transaction\":tran}"
   ]
  },
  {
   "cell_type": "code",
   "execution_count": null,
   "id": "e00ddf53",
   "metadata": {
    "ExecuteTime": {
     "end_time": "2024-10-15T09:33:07.155748Z",
     "start_time": "2024-10-15T09:33:07.152438Z"
    }
   },
   "outputs": [],
   "source": [
    "#shape of each dataframe\n",
    "for k,v in ddf.items():\n",
    "    print(f'{k}')\n",
    "    print(f'{v.shape}\\n')"
   ]
  },
  {
   "cell_type": "code",
   "execution_count": null,
   "id": "a5a93a43",
   "metadata": {
    "ExecuteTime": {
     "end_time": "2024-10-15T09:33:07.294648Z",
     "start_time": "2024-10-15T09:33:07.243433Z"
    }
   },
   "outputs": [],
   "source": [
    "#info (dtype) of each dataframe\n",
    "for k,v in ddf.items():\n",
    "    print(f'{k}')\n",
    "    print(f'{v.info()}\\n')"
   ]
  },
  {
   "cell_type": "code",
   "execution_count": null,
   "id": "13793d4b",
   "metadata": {
    "ExecuteTime": {
     "end_time": "2024-10-15T09:33:07.794909Z",
     "start_time": "2024-10-15T09:33:07.395692Z"
    }
   },
   "outputs": [],
   "source": [
    "# describe on each dataframe\n",
    "for k,v in ddf.items():\n",
    "    print(f'{k}')\n",
    "    print(f\"{v.describe(include='all')}\\n\")"
   ]
  },
  {
   "cell_type": "code",
   "execution_count": null,
   "id": "8c5a7f47",
   "metadata": {
    "ExecuteTime": {
     "end_time": "2024-10-15T09:33:07.827332Z",
     "start_time": "2024-10-15T09:33:07.813115Z"
    }
   },
   "outputs": [],
   "source": [
    "# sample or head of each dataframe\n",
    "for k,v in ddf.items():\n",
    "    print(f'{k}')\n",
    "    print(f'{v.head(5)}\\n')"
   ]
  },
  {
   "cell_type": "code",
   "execution_count": null,
   "id": "c070d8a9",
   "metadata": {
    "ExecuteTime": {
     "end_time": "2024-10-15T09:33:07.949689Z",
     "start_time": "2024-10-15T09:33:07.905935Z"
    }
   },
   "outputs": [],
   "source": [
    "for k,v in ddf.items():\n",
    "    print(f'Pecentage of Nan values in table: {k} \\nby column:\"\\n{v.isnull().sum()}\\n')"
   ]
  },
  {
   "cell_type": "markdown",
   "id": "7a310ffd",
   "metadata": {},
   "source": [
    "# Univariate analysis and cleaning"
   ]
  },
  {
   "cell_type": "markdown",
   "id": "f7765537-3e68-46b6-bc16-e722f0cefacc",
   "metadata": {},
   "source": [
    "## clients"
   ]
  },
  {
   "cell_type": "code",
   "execution_count": null,
   "id": "7a43f746",
   "metadata": {
    "ExecuteTime": {
     "end_time": "2024-10-15T09:33:08.620189Z",
     "start_time": "2024-10-15T09:33:08.611030Z"
    }
   },
   "outputs": [],
   "source": [
    "print(cust.duplicated().sum())"
   ]
  },
  {
   "cell_type": "code",
   "execution_count": null,
   "id": "8a5209db",
   "metadata": {
    "ExecuteTime": {
     "end_time": "2024-10-15T09:33:08.743455Z",
     "start_time": "2024-10-15T09:33:08.730531Z"
    }
   },
   "outputs": [],
   "source": [
    "cust.sample(10)"
   ]
  },
  {
   "cell_type": "code",
   "execution_count": null,
   "id": "c478cbfcc67aea1f",
   "metadata": {
    "jupyter": {
     "is_executing": true
    }
   },
   "outputs": [],
   "source": [
    "data = cust['birth'].values\n",
    "\n",
    "mean = np.mean(data)\n",
    "std_dev = np.std(data)\n",
    "\n",
    "z_scores = stats.zscore(data)\n",
    "\n",
    "outliers = np.where(np.abs(z_scores) > 3)\n",
    "\n",
    "print(f\"Mean: {mean:.2f}\")\n",
    "print(f\"Standard Deviation: {std_dev:.2f}\")\n",
    "print(f\"Number of outliers (beyond 3-sigma): {len(outliers[0])}\")\n",
    "print(f\"Outlier values: {data[outliers]}\")"
   ]
  },
  {
   "cell_type": "code",
   "execution_count": null,
   "id": "a12acafa0548a17f",
   "metadata": {
    "ExecuteTime": {
     "end_time": "2024-10-15T09:33:09.062631Z",
     "start_time": "2024-10-15T09:33:09.057299Z"
    }
   },
   "outputs": [],
   "source": [
    "#drop the outlier\n",
    "cust.drop(cust.index[outliers[0]], inplace=True)"
   ]
  },
  {
   "cell_type": "code",
   "execution_count": null,
   "id": "998c4e67",
   "metadata": {
    "ExecuteTime": {
     "end_time": "2024-10-15T09:33:12.313685Z",
     "start_time": "2024-10-15T09:33:09.620790Z"
    }
   },
   "outputs": [],
   "source": [
    "title=\"The breakdown of customers by gender and birth year\"\n",
    "fig = px.histogram(cust,x='birth',color='sex',marginal='box',text_auto=True,title=title)\n",
    "# pio.write_image(fig,Path(path/title),format='png')\n",
    "fig.show()"
   ]
  },
  {
   "cell_type": "code",
   "execution_count": null,
   "id": "5c7515ea-2adf-43ce-b45b-22a82e1c232b",
   "metadata": {},
   "outputs": [],
   "source": [
    "# recall on cust info before jump into next dataframe\n",
    "cust.info()"
   ]
  },
  {
   "cell_type": "code",
   "execution_count": null,
   "id": "f66499be-c649-40c5-8739-0c700456f66f",
   "metadata": {},
   "outputs": [],
   "source": [
    "tmp=cust.sex.value_counts()\n",
    "fig=px.pie(values=tmp.values)\n",
    "fig.show()"
   ]
  },
  {
   "cell_type": "markdown",
   "id": "48c9500c",
   "metadata": {},
   "source": [
    "## products"
   ]
  },
  {
   "cell_type": "code",
   "execution_count": null,
   "id": "f72eaf823beffade",
   "metadata": {
    "ExecuteTime": {
     "end_time": "2024-10-15T09:33:12.652706Z",
     "start_time": "2024-10-15T09:33:12.647339Z"
    }
   },
   "outputs": [],
   "source": [
    "#no duplicates in the product id\n",
    "print(products.duplicated('product_id').sum())"
   ]
  },
  {
   "cell_type": "code",
   "execution_count": null,
   "id": "c6c9403e19030d3f",
   "metadata": {
    "ExecuteTime": {
     "end_time": "2024-10-15T09:33:12.795165Z",
     "start_time": "2024-10-15T09:33:12.787459Z"
    }
   },
   "outputs": [],
   "source": [
    "products.head(1)"
   ]
  },
  {
   "cell_type": "code",
   "execution_count": null,
   "id": "cfa01ec2d93bfb1e",
   "metadata": {
    "ExecuteTime": {
     "end_time": "2024-10-15T09:33:12.953587Z",
     "start_time": "2024-10-15T09:33:12.947433Z"
    }
   },
   "outputs": [],
   "source": [
    "#as see above, there is negative price, which has T_0 value, test product_id obviously\n",
    "products[products['price']==-1]"
   ]
  },
  {
   "cell_type": "markdown",
   "id": "cc71ec41-780d-4109-bcc6-70d0b725cc4c",
   "metadata": {},
   "source": [
    "#### check diff category vs sub-category"
   ]
  },
  {
   "cell_type": "code",
   "execution_count": null,
   "id": "0a872f11",
   "metadata": {
    "ExecuteTime": {
     "end_time": "2024-10-15T09:33:13.134539Z",
     "start_time": "2024-10-15T09:33:13.095136Z"
    }
   },
   "outputs": [],
   "source": [
    "title='Products table items by price and category'\n",
    "fig=px.histogram(products, x='price',color='category',marginal='box',title=title)\n",
    "fig.show()"
   ]
  },
  {
   "cell_type": "code",
   "execution_count": null,
   "id": "24717aef-1f7e-4f47-83e8-83d04a7693c7",
   "metadata": {},
   "outputs": [],
   "source": [
    "title='The breakdown of products by price and sub category'\n",
    "fig=px.histogram(products, x='price',color='sub_category',marginal='box',title=title)\n",
    "#pio.write_image(fig,Path(path/title),format='png')\n",
    "fig.show()"
   ]
  },
  {
   "cell_type": "code",
   "execution_count": null,
   "id": "20c999e7-8c13-4fc9-bd44-164039ea1fc8",
   "metadata": {},
   "outputs": [],
   "source": [
    "products.groupby('category').agg(nunique=('sub_category', 'nunique'))"
   ]
  },
  {
   "cell_type": "code",
   "execution_count": null,
   "id": "3be906f8-c24e-40ac-93ea-fbd9bdb3457c",
   "metadata": {},
   "outputs": [],
   "source": [
    "products[['category','sub_category']].drop_duplicates()"
   ]
  },
  {
   "cell_type": "code",
   "execution_count": null,
   "id": "d49388eb-af90-4556-831e-e4015b63f037",
   "metadata": {},
   "outputs": [],
   "source": [
    "#recall on info then next dataframe\n",
    "products.info()"
   ]
  },
  {
   "cell_type": "markdown",
   "id": "3b53963b",
   "metadata": {
    "ExecuteTime": {
     "end_time": "2022-04-12T16:46:10.270266Z",
     "start_time": "2022-04-12T16:46:10.254068Z"
    }
   },
   "source": [
    "## transactions"
   ]
  },
  {
   "cell_type": "code",
   "execution_count": null,
   "id": "e150fc19-0c34-4321-ac97-507cd0696996",
   "metadata": {},
   "outputs": [],
   "source": [
    "tran[tran['id_prod']==\"T_0\"]"
   ]
  },
  {
   "cell_type": "code",
   "execution_count": null,
   "id": "5c2c9e23018c8af3",
   "metadata": {
    "ExecuteTime": {
     "end_time": "2024-10-15T09:33:16.297017Z",
     "start_time": "2024-10-15T09:33:13.877793Z"
    }
   },
   "outputs": [],
   "source": [
    "#let clean test data (as seen in descrbe results, product_id=T_0 or date startwith test)\n",
    "def is_correct_format(dt_string):\n",
    "    try:\n",
    "        datetime.strptime(dt_string, \"%Y-%m-%d %H:%M:%S.%f\")\n",
    "        return True\n",
    "    except ValueError:\n",
    "        return False\n",
    "\n",
    "# Apply the function to the column\n",
    "tran['date_format']= tran['date'].apply(is_correct_format)"
   ]
  },
  {
   "cell_type": "code",
   "execution_count": null,
   "id": "ebaaac185717e258",
   "metadata": {
    "ExecuteTime": {
     "end_time": "2024-10-15T09:33:16.340033Z",
     "start_time": "2024-10-15T09:33:16.319118Z"
    }
   },
   "outputs": [],
   "source": [
    "print((tran['date_format']==0).sum())\n",
    "tran=tran[tran['date_format']!=0]"
   ]
  },
  {
   "cell_type": "code",
   "execution_count": null,
   "id": "e1d54357",
   "metadata": {
    "ExecuteTime": {
     "end_time": "2024-10-15T09:34:43.250591Z",
     "start_time": "2024-10-15T09:34:42.814041Z"
    }
   },
   "outputs": [],
   "source": [
    "#gap on the oct 2021\n",
    "title=\"sales per day \"\n",
    "fig=px.histogram(tran,x='date',title=title)\n",
    "fig.show()"
   ]
  },
  {
   "cell_type": "code",
   "execution_count": null,
   "id": "7d39b22e-64e7-4baa-8ccb-b0312b4fbd5c",
   "metadata": {},
   "outputs": [],
   "source": [
    "tmp=tran.groupby('client_id')['quantity_sold'].count().sort_values(ascending=False)"
   ]
  },
  {
   "cell_type": "code",
   "execution_count": null,
   "id": "87054ecf",
   "metadata": {
    "ExecuteTime": {
     "end_time": "2024-10-15T09:34:51.127676Z",
     "start_time": "2024-10-15T09:34:50.842834Z"
    }
   },
   "outputs": [],
   "source": [
    "#let check purchases frequencies\n",
    "top_clients = tran['client_id'].value_counts().nlargest(20).index\n",
    "top_tran = tran[tran['client_id'].isin(top_clients)]\n",
    "title=\"Number of sales per client (top20)\"\n",
    "fig=px.histogram(top_tran,x='client_id',title=title)\n",
    "fig.update_xaxes(tickangle=70)\n",
    "fig.show()"
   ]
  },
  {
   "cell_type": "code",
   "execution_count": null,
   "id": "94f26778",
   "metadata": {},
   "outputs": [],
   "source": [
    "#get list of top 4 id \n",
    "list_big_buyer=tran['client_id'].value_counts()[:4].values\n",
    "list_big_buyer"
   ]
  },
  {
   "cell_type": "code",
   "execution_count": null,
   "id": "75f067f9-716f-4179-8bb9-009c5e3958cc",
   "metadata": {},
   "outputs": [],
   "source": [
    "#let check if any T_0 product transaction remains\n",
    "tran[tran['id_prod']=='T_0']"
   ]
  },
  {
   "cell_type": "markdown",
   "id": "0d2c22b9",
   "metadata": {},
   "source": [
    "# dataset diff check before merges"
   ]
  },
  {
   "cell_type": "markdown",
   "id": "2af8efc8",
   "metadata": {},
   "source": [
    "## table client vs transaction"
   ]
  },
  {
   "cell_type": "code",
   "execution_count": null,
   "id": "45d02cb0",
   "metadata": {},
   "outputs": [],
   "source": [
    "id_client=set(cust['client_id'])\n",
    "id_client_achat=set(tran['client_id'])\n",
    "len(id_client),len(id_client_achat)"
   ]
  },
  {
   "cell_type": "code",
   "execution_count": null,
   "id": "c9eff187",
   "metadata": {},
   "outputs": [],
   "source": [
    "print(id_client_achat-id_client)\n",
    "print(id_client-id_client_achat)\n",
    "client_achat_0=list(id_client-id_client_achat)"
   ]
  },
  {
   "cell_type": "code",
   "execution_count": null,
   "id": "97ae172b",
   "metadata": {},
   "outputs": [],
   "source": [
    "tmp=cust[cust['client_id'].isin(client_achat_0)]\n",
    "len(tmp)"
   ]
  },
  {
   "cell_type": "code",
   "execution_count": null,
   "id": "c0a80009-057e-463a-a304-b48d7d24385e",
   "metadata": {},
   "outputs": [],
   "source": [
    "tmp[tmp['birth']==1980]"
   ]
  },
  {
   "cell_type": "code",
   "execution_count": null,
   "id": "32fe5389",
   "metadata": {},
   "outputs": [],
   "source": [
    "tickvals= list(range(1950,2010,10))\n",
    "fig=px.histogram(tmp,x='birth',color='sex',barmode='group',title='Distribution of customers with no purchases by gender and date of birth.')\n",
    "#fig.update_xaxes(type='category')\n",
    "fig.update_layout(\n",
    "        xaxis = dict(\n",
    "                tickmode = 'array',\n",
    "                tickvals = tickvals,\n",
    "        )\n",
    ")\n",
    "fig.show()"
   ]
  },
  {
   "cell_type": "markdown",
   "id": "6bfdcd38",
   "metadata": {},
   "source": [
    "## table products vs transaction"
   ]
  },
  {
   "cell_type": "code",
   "execution_count": null,
   "id": "be6c2ef5",
   "metadata": {},
   "outputs": [],
   "source": [
    "id_prod=set(products['product_id'])\n",
    "id_prod_vente=set(tran['id_prod'])\n",
    "len(id_prod),len(id_prod_vente)"
   ]
  },
  {
   "cell_type": "code",
   "execution_count": null,
   "id": "e5409151",
   "metadata": {},
   "outputs": [],
   "source": [
    "print(len(id_prod-id_prod_vente),id_prod-id_prod_vente) #23 product without any sales (in given timelaps)\n",
    "print(id_prod_vente-id_prod) #one transaction has data sa"
   ]
  },
  {
   "cell_type": "code",
   "execution_count": null,
   "id": "ff40dca3-7311-40e0-a6d2-c4924df7f18a",
   "metadata": {},
   "outputs": [],
   "source": [
    "### checks no transsactions products\n",
    "liste_0vente=list(id_prod-id_prod_vente)\n",
    "tmp=products[products['product_id'].isin(liste_0vente)]\n",
    "fig=px.histogram(tmp, x='price',color='category',title=\"Distribution of products without sales records by category\")\n",
    "fig.show()"
   ]
  },
  {
   "cell_type": "code",
   "execution_count": null,
   "id": "bc552f3b",
   "metadata": {
    "scrolled": true
   },
   "outputs": [],
   "source": [
    "tran[tran['id_prod']=='0_2245']\n",
    "#we have 103 sales of this product, which isnt in our product database, need handling it"
   ]
  },
  {
   "cell_type": "code",
   "execution_count": null,
   "id": "62b10c90",
   "metadata": {},
   "outputs": [],
   "source": [
    "tmp=tran[tran['id_prod']=='0_2245'].copy(deep=True)\n",
    "tmp['period']=pd.to_datetime(tmp.date).dt.to_period('Q')\n",
    "tmp['period']=tmp['period'].astype('str')"
   ]
  },
  {
   "cell_type": "code",
   "execution_count": null,
   "id": "ac76bc8f",
   "metadata": {},
   "outputs": [],
   "source": [
    "fig=px.histogram(tmp.sort_values('period'),x='period',histfunc='count')\n",
    "fig.update_xaxes(type='category')\n",
    "fig.show()"
   ]
  },
  {
   "cell_type": "code",
   "execution_count": null,
   "id": "814e94ca",
   "metadata": {},
   "outputs": [],
   "source": [
    "# let check the list of products not having any seles\n",
    "list_no_sales=list(id_prod-id_prod_vente)\n",
    "len(list_no_sales) "
   ]
  },
  {
   "cell_type": "code",
   "execution_count": null,
   "id": "4a966101",
   "metadata": {},
   "outputs": [],
   "source": [
    "tmp=products[products['product_id'].isin(list_no_sales)]\n",
    "tmp.head()"
   ]
  },
  {
   "cell_type": "code",
   "execution_count": null,
   "id": "0a968e66-e46f-4328-b185-be7a9c51dabc",
   "metadata": {},
   "outputs": [],
   "source": [
    "# stock quantity of no sales data  \n",
    "print(tmp['stock_quantity'].sum())"
   ]
  },
  {
   "cell_type": "code",
   "execution_count": null,
   "id": "8df0df3a",
   "metadata": {},
   "outputs": [],
   "source": [
    "px.bar(tmp,x='price',y=\"stock_quantity\",color=\"category\")"
   ]
  },
  {
   "cell_type": "markdown",
   "id": "58f4d6e1",
   "metadata": {},
   "source": [
    "# Merges"
   ]
  },
  {
   "cell_type": "markdown",
   "id": "0ed94910-9883-4cdd-aec1-959a301b42f2",
   "metadata": {},
   "source": [
    "we do use innner merge, the outliers must be handdle yet"
   ]
  },
  {
   "cell_type": "code",
   "execution_count": null,
   "id": "e8e9835f",
   "metadata": {},
   "outputs": [],
   "source": [
    "tmp=pd.merge(tran,products,left_on='id_prod',right_on='product_id')\n",
    "df=pd.merge(tmp,cust,on='client_id')\n",
    "df.shape"
   ]
  },
  {
   "cell_type": "code",
   "execution_count": null,
   "id": "98e209cd",
   "metadata": {},
   "outputs": [],
   "source": [
    "df.duplicated().sum()"
   ]
  },
  {
   "cell_type": "code",
   "execution_count": null,
   "id": "79866f99",
   "metadata": {},
   "outputs": [],
   "source": [
    "df.isnull().sum()"
   ]
  },
  {
   "cell_type": "code",
   "execution_count": null,
   "id": "95c85eb6",
   "metadata": {},
   "outputs": [],
   "source": [
    "df.head()"
   ]
  },
  {
   "cell_type": "markdown",
   "id": "965a2978",
   "metadata": {},
   "source": [
    "## custom changes before data analysis"
   ]
  },
  {
   "cell_type": "code",
   "execution_count": null,
   "id": "25cf25da",
   "metadata": {},
   "outputs": [],
   "source": [
    "#Conversion de la colonne date: Obj -> datetime64\n",
    "df['date']=df['date'].astype('datetime64[ns]')"
   ]
  },
  {
   "cell_type": "code",
   "execution_count": null,
   "id": "c1caa9cb",
   "metadata": {},
   "outputs": [],
   "source": [
    "#Creation d'une colonne extration year_month, on remplace simplement toutes les dates par le 1er du mois\n",
    "df['monthly'] = df['date'].dt.to_period('M').dt.to_timestamp()\n",
    "df.head()"
   ]
  },
  {
   "cell_type": "code",
   "execution_count": null,
   "id": "293fac7a",
   "metadata": {},
   "outputs": [],
   "source": [
    "# Age at the purchase time\n",
    "df['age']=df['date'].dt.year-df.birth\n",
    "df.head()"
   ]
  },
  {
   "cell_type": "code",
   "execution_count": null,
   "id": "67a984f9-417b-47ee-8ad1-336ecae024fe",
   "metadata": {},
   "outputs": [],
   "source": [
    "# Binning age\n",
    "bins = range(0,101,10)\n",
    "df['ages_bins'] = pd.cut(df['age'], bins=bins)"
   ]
  },
  {
   "cell_type": "code",
   "execution_count": null,
   "id": "13cf196f-6e06-41a6-b1d0-e87b1b30a582",
   "metadata": {},
   "outputs": [],
   "source": [
    "mask_client=df['client_id'].isin(['c_6714','c_4958','c_1609','c_3454'])\n",
    "mask_date=(df['date']<\"2021-10-01\")|(df['date']>=\"2021-11-01\")\n",
    "keep_col=['product_id', 'date', 'session_id', 'client_id', 'quantity_sold', 'category', 'price', 'sex', 'birth', 'age', 'ages_bins']\n",
    "df_livrable=df[(~mask_client) & mask_date][keep_col]"
   ]
  },
  {
   "cell_type": "code",
   "execution_count": null,
   "id": "8e7df841-2bd7-4062-85dd-4954ff53cb59",
   "metadata": {},
   "outputs": [],
   "source": [
    "fig=px.histogram(df_livrable,x='date',color='category')\n",
    "# fig.update_xaxes(type='category')\n",
    "fig.show()"
   ]
  },
  {
   "cell_type": "markdown",
   "id": "c34a86ae",
   "metadata": {},
   "source": [
    "# Graphs and Addin"
   ]
  },
  {
   "cell_type": "markdown",
   "id": "cda1e1dc",
   "metadata": {},
   "source": [
    "## Corr HeatMap"
   ]
  },
  {
   "cell_type": "code",
   "execution_count": null,
   "id": "0119829d-d2f2-4ec8-b351-9fc9d0acc861",
   "metadata": {},
   "outputs": [],
   "source": [
    "corr_df=df_livrable[['price','ages_bins','category','sex']]"
   ]
  },
  {
   "cell_type": "code",
   "execution_count": null,
   "id": "c354d69e-e24f-4fe8-93f6-72cdf54ae84c",
   "metadata": {},
   "outputs": [],
   "source": [
    "corr_df['category']=corr_df['category'].astype('category').cat.codes\n",
    "corr_df['sex']=corr_df['sex'].astype('category').cat.codes\n",
    "corr_df['ages_bins']=corr_df['ages_bins'].astype('category').cat.codes"
   ]
  },
  {
   "cell_type": "code",
   "execution_count": null,
   "id": "bc5ab38f",
   "metadata": {},
   "outputs": [],
   "source": [
    "plt.figure(figsize=(12, 7))\n",
    "corr=corr_df.corr()\n",
    "mask = np.zeros_like(corr)\n",
    "mask[np.triu_indices_from(mask)] = True\n",
    "heatmap = sns.heatmap(corr, mask=mask,vmin=-1,vmax=1,annot=True)\n",
    "heatmap.set_title('correction matrix')\n",
    "plt.xticks(rotation=45,ha='right')\n",
    "plt.show()"
   ]
  },
  {
   "cell_type": "markdown",
   "id": "6ffec264",
   "metadata": {},
   "source": [
    "heatmap show some correlation between category of good and price (which is obvious)"
   ]
  },
  {
   "cell_type": "markdown",
   "id": "ca57a879",
   "metadata": {},
   "source": [
    "## BIG 4\n",
    "graph of big 4"
   ]
  },
  {
   "cell_type": "code",
   "execution_count": null,
   "id": "2730ce15",
   "metadata": {},
   "outputs": [],
   "source": [
    "big_4=['c_6714','c_4958','c_1609','c_3454']\n",
    "df_baron=df[df['client_id'].isin(big_4)]"
   ]
  },
  {
   "cell_type": "code",
   "execution_count": null,
   "id": "36c6045a-bc99-4da6-b7ac-c81e52750fe6",
   "metadata": {},
   "outputs": [],
   "source": [
    "df_baron"
   ]
  },
  {
   "cell_type": "code",
   "execution_count": null,
   "id": "e774f00f",
   "metadata": {},
   "outputs": [],
   "source": [
    "df_baron.groupby('client_id').agg({'price':\"sum\",\"quantity_sold\":\"sum\",\"category\":pd.Series.mode})"
   ]
  },
  {
   "cell_type": "code",
   "execution_count": null,
   "id": "45aa5d1b",
   "metadata": {},
   "outputs": [],
   "source": [
    "fig=px.histogram(df_baron,x='date',color='client_id')\n",
    "# fig.update_xaxes(type='category')\n",
    "fig.show()"
   ]
  },
  {
   "cell_type": "code",
   "execution_count": null,
   "id": "edcbdc66",
   "metadata": {},
   "outputs": [],
   "source": [
    "revenu_4=df[df['client_id'].isin(big_4)]['price'].sum()\n",
    "revenu_other=df[~df['client_id'].isin(big_4)]['price'].sum()\n",
    "revenu=revenu_4+revenu_other\n",
    "revenu_other, revenu_4"
   ]
  },
  {
   "cell_type": "code",
   "execution_count": null,
   "id": "2d78b043",
   "metadata": {},
   "outputs": [],
   "source": [
    "px.pie(values=[revenu,revenu_4], names=['total','barons sales'], title='part of revenu by big4')"
   ]
  },
  {
   "cell_type": "code",
   "execution_count": null,
   "id": "4bc08443",
   "metadata": {},
   "outputs": [],
   "source": [
    "title=\"B2B sales on histogramm\"\n",
    "fig=px.histogram(df_baron, x='client_id',color='category',title=title)\n",
    "#pio.write_image(fig,Path(path/title),format='png')\n",
    "fig.show()"
   ]
  },
  {
   "cell_type": "code",
   "execution_count": null,
   "id": "944c92eb",
   "metadata": {},
   "outputs": [],
   "source": [
    "tmp=df_baron.groupby(['client_id','category'])['price'].sum().reset_index()\n",
    "tmp['category']=tmp['category'].astype('str')\n",
    "title=\"Revenu from the B2B clients\"\n",
    "fig=px.bar(tmp, x='client_id',y='price', color='category',title=title)\n",
    "fig.update_xaxes(categoryarray=['c_1609','c_6714','c_3454','c_4958'])\n",
    "# pio.write_image(fig,Path(path/title),format='png')\n",
    "fig.show()"
   ]
  },
  {
   "cell_type": "markdown",
   "id": "7fd37396",
   "metadata": {},
   "source": [
    "## the GAP on oct 2021"
   ]
  },
  {
   "cell_type": "code",
   "execution_count": null,
   "id": "c97b682a",
   "metadata": {},
   "outputs": [],
   "source": [
    "df[(df['monthly']=='2021-10-01')&(df.category==\"Accssoires\")]"
   ]
  },
  {
   "cell_type": "code",
   "execution_count": null,
   "id": "78655a3a",
   "metadata": {},
   "outputs": [],
   "source": [
    "title=\"The Gap on octobre 2021\"\n",
    "fig=px.histogram(df,x='date',color='category',title=title)\n",
    "# pio.write_image(fig,Path(path/title),format='png')\n",
    "fig.show()"
   ]
  },
  {
   "cell_type": "code",
   "execution_count": null,
   "id": "eef9f9e9",
   "metadata": {},
   "outputs": [],
   "source": [
    "# as the graph above could suggest, the \"Accesoires\" category data is missing for the month\n",
    "title=\"Missing data for Accessory category\"\n",
    "fig=px.histogram(df,x='monthly',color='category',title=title)\n",
    "# pio.write_image(fig,Path(path/title),format='png')\n",
    "fig.show()"
   ]
  },
  {
   "cell_type": "code",
   "execution_count": null,
   "id": "3fbdea67",
   "metadata": {},
   "outputs": [],
   "source": [
    "# détails des ventes pour le mois d'octobre 2021, nous décidons de drop ce mois car il manque des données pour la catégorie 1\n",
    "tmp=df[(df['date']>\"2021-10-01\")&(df['date']<=\"2021-11-01\")]\n",
    "title=\"Focus on october 2021 seles\"\n",
    "fig=px.histogram(tmp,x='date',color='category',title=title)\n",
    "#pio.write_image(fig,Path(path/title),format='png')\n",
    "fig.show()"
   ]
  },
  {
   "cell_type": "code",
   "execution_count": null,
   "id": "7d6789ea",
   "metadata": {},
   "outputs": [],
   "source": [
    "df.head()"
   ]
  },
  {
   "cell_type": "markdown",
   "id": "35f2dfbb",
   "metadata": {},
   "source": [
    "## KPi Revenue"
   ]
  },
  {
   "cell_type": "code",
   "execution_count": null,
   "id": "92d8bd96",
   "metadata": {},
   "outputs": [],
   "source": [
    "# tmp=df_analyse[(df_analyse['date']<pd.to_datetime(\"2021-10-01\"))|(df_analyse['date']>=pd.to_datetime(\"2021-11-01\"))].copy(deep=True)\n",
    "tmp2=df.groupby('monthly')['price'].sum()\n",
    "title=\"Monthly revenue\"\n",
    "fig=px.bar(tmp2,x=tmp2.index,y=tmp2.values,title=title)\n",
    "#pio.write_image(fig,Path(path/title),format='png')\n",
    "fig.show()"
   ]
  },
  {
   "cell_type": "code",
   "execution_count": null,
   "id": "d8d02c4e",
   "metadata": {},
   "outputs": [],
   "source": [
    "tmp=df.groupby(['monthly','category']).agg({\"price\":'sum'}).reset_index()\n",
    "tmp['category']=tmp['category'].astype('str')\n",
    "title='A par mois par catégorie'\n",
    "fig=px.bar(tmp,x='monthly',y='price',color='category',title='Monthly revenue by category')\n",
    "fig.show()"
   ]
  },
  {
   "cell_type": "code",
   "execution_count": null,
   "id": "cb5969a5",
   "metadata": {},
   "outputs": [],
   "source": [
    "tmp=df.groupby('category')['price'].sum()\n",
    "fig=px.pie(tmp,values=tmp.values,names=tmp.index,title='Revenue by category')\n",
    "fig.show()"
   ]
  },
  {
   "cell_type": "code",
   "execution_count": null,
   "id": "3db848b7",
   "metadata": {},
   "outputs": [],
   "source": [
    "df['price'].sum()"
   ]
  },
  {
   "cell_type": "markdown",
   "id": "2c0b4499-eeab-4db2-8f0c-32ccf42e2081",
   "metadata": {},
   "source": [
    "## Carts insights"
   ]
  },
  {
   "cell_type": "code",
   "execution_count": null,
   "id": "18656062-6da9-4cbe-aca9-6287cd1e36d7",
   "metadata": {},
   "outputs": [],
   "source": [
    "df_livrable"
   ]
  },
  {
   "cell_type": "code",
   "execution_count": null,
   "id": "dac51fdf-f5e5-48dc-9656-0847cddfd6c5",
   "metadata": {},
   "outputs": [],
   "source": [
    "tmp.index"
   ]
  },
  {
   "cell_type": "code",
   "execution_count": null,
   "id": "a14d1c54-305c-4f3f-a2d0-2c76c13a514a",
   "metadata": {},
   "outputs": [],
   "source": [
    "tmp=df_livrable[['price','ages_bins','category']]\n",
    "fig = px.box(tmp, x=tmp['ages_bins'].astype('str'), y='price', \n",
    "              title='Distribution of Cart Amounts by Age Group',\n",
    "             color=\"category\",\n",
    "            points=False) \n",
    "fig.update_xaxes(categoryorder='category ascending')\n",
    "fig.show()"
   ]
  },
  {
   "cell_type": "code",
   "execution_count": null,
   "id": "b0328c34-a4e6-465f-994f-e3b4a2de4b0f",
   "metadata": {},
   "outputs": [],
   "source": [
    "df_livrable.groupby(['age','category'])['price'].sum().reset_index()"
   ]
  },
  {
   "cell_type": "code",
   "execution_count": null,
   "id": "8f43a725-a91e-4e95-a1ac-ac081b9499a2",
   "metadata": {},
   "outputs": [],
   "source": [
    "tmp=df_livrable.groupby(['age'])['price'].sum().reset_index()\n",
    "fig = px.line(tmp, x=\"age\", y=\"price\", title='Expenses by age')\n",
    "fig.show()"
   ]
  },
  {
   "cell_type": "code",
   "execution_count": null,
   "id": "75505098-ea97-4e82-8460-bd0a161fb054",
   "metadata": {},
   "outputs": [],
   "source": [
    "tmp=df_livrable.groupby(['age','category'])['price'].sum().reset_index()\n",
    "fig = px.line(tmp, x=\"age\", y=\"price\",color='category', title='Expenses by Age and Category')\n",
    "fig.show()"
   ]
  },
  {
   "cell_type": "markdown",
   "id": "fed57c02-4066-485a-90cd-6339232729c7",
   "metadata": {},
   "source": [
    "## RFM"
   ]
  },
  {
   "cell_type": "code",
   "execution_count": null,
   "id": "e8bf2823",
   "metadata": {},
   "outputs": [],
   "source": [
    "#recency data\n",
    "last=df.date.max().date()\n",
    "last"
   ]
  },
  {
   "cell_type": "code",
   "execution_count": null,
   "id": "f39d4e60",
   "metadata": {},
   "outputs": [],
   "source": [
    "df_recency=df.groupby('client_id',as_index=False)['date'].max()\n",
    "df_recency['recency']=df_recency[\"date\"].dt.date.apply(lambda x: (last-x).days)\n",
    "df_recency.head()"
   ]
  },
  {
   "cell_type": "code",
   "execution_count": null,
   "id": "ba0c8198",
   "metadata": {},
   "outputs": [],
   "source": [
    "title='recency data by customer'\n",
    "fig=px.box(df_recency,x='recency',title=title)\n",
    "#pio.write_image(fig,Path(path/title),format='png')\n",
    "fig.show()"
   ]
  },
  {
   "cell_type": "markdown",
   "id": "63ebd6d2-d2dc-43fe-bc97-ff4c0400f98a",
   "metadata": {},
   "source": [
    "frequecy and monetary data"
   ]
  },
  {
   "cell_type": "code",
   "execution_count": null,
   "id": "1ed9d678",
   "metadata": {},
   "outputs": [],
   "source": [
    "df_frequency=df.groupby('client_id').agg({'session_id':np.size,'price':\"sum\"}).reset_index()\n",
    "df_frequency.columns=['client_id','frenquency','monetary']\n",
    "df_frequency.head()"
   ]
  },
  {
   "cell_type": "markdown",
   "id": "8a19cdb3-2699-4ad0-820c-efa0749ee591",
   "metadata": {},
   "source": [
    "merge data RFM"
   ]
  },
  {
   "cell_type": "code",
   "execution_count": null,
   "id": "1b5f66a6",
   "metadata": {},
   "outputs": [],
   "source": [
    "df_rfm=df_recency[['client_id','recency']].merge(df_frequency, on='client_id').set_index('client_id')"
   ]
  },
  {
   "cell_type": "code",
   "execution_count": null,
   "id": "167ca78d-2ea3-4b83-855e-05d01f7066ee",
   "metadata": {},
   "outputs": [],
   "source": [
    "df_rfm.info()"
   ]
  },
  {
   "cell_type": "code",
   "execution_count": null,
   "id": "468b357b",
   "metadata": {},
   "outputs": [],
   "source": [
    "df_rfm.quantile(q=[0.25,0.5,0.75])"
   ]
  },
  {
   "cell_type": "code",
   "execution_count": null,
   "id": "c03e3646",
   "metadata": {},
   "outputs": [],
   "source": [
    "quantiles=df_rfm.quantile(q=[0.25,0.5,0.75])\n",
    "quantiles.to_dict()"
   ]
  },
  {
   "cell_type": "code",
   "execution_count": null,
   "id": "943b7397",
   "metadata": {},
   "outputs": [],
   "source": [
    "# Arguments (x = value, p = recency, monetary_value, frequency, d = quartiles dict)\n",
    "def RScore(x,p,d):\n",
    "    if x <= d[p][0.25]:\n",
    "        return 4\n",
    "    elif x <= d[p][0.50]:\n",
    "        return 3\n",
    "    elif x <= d[p][0.75]: \n",
    "        return 2\n",
    "    else:\n",
    "        return 1\n",
    "# Arguments (x = value, p = recency, monetary_value, frequency, k = quartiles dict)\n",
    "def FMScore(x,p,d):\n",
    "    if x <= d[p][0.25]:\n",
    "        return 1\n",
    "    elif x <= d[p][0.50]:\n",
    "        return 2\n",
    "    elif x <= d[p][0.75]: \n",
    "        return 3\n",
    "    else:\n",
    "        return 4"
   ]
  },
  {
   "cell_type": "code",
   "execution_count": null,
   "id": "697219e4",
   "metadata": {},
   "outputs": [],
   "source": [
    "rfm_segmentation = df_rfm\n",
    "rfm_segmentation['R_Quartile'] = rfm_segmentation['recency'].apply(RScore, args=('recency',quantiles,))\n",
    "rfm_segmentation['F_Quartile'] = rfm_segmentation['frenquency'].apply(FMScore, args=('frenquency',quantiles,))\n",
    "rfm_segmentation['M_Quartile'] = rfm_segmentation['monetary'].apply(FMScore, args=('monetary',quantiles,))"
   ]
  },
  {
   "cell_type": "code",
   "execution_count": null,
   "id": "e6aff61d",
   "metadata": {},
   "outputs": [],
   "source": [
    "rfm_segmentation.head()"
   ]
  },
  {
   "cell_type": "code",
   "execution_count": null,
   "id": "8919c01b",
   "metadata": {},
   "outputs": [],
   "source": [
    "rfm_segmentation['RFMScore'] = rfm_segmentation.R_Quartile.map(str) \\\n",
    "                            + rfm_segmentation.F_Quartile.map(str) \\\n",
    "                            + rfm_segmentation.M_Quartile.map(str)\n",
    "rfm_segmentation.head()"
   ]
  },
  {
   "cell_type": "code",
   "execution_count": null,
   "id": "e088b78a",
   "metadata": {},
   "outputs": [],
   "source": [
    "print(\"Best Customers: \",len(rfm_segmentation[rfm_segmentation['RFMScore']=='444']))\n",
    "print('Loyal Customers: ',len(rfm_segmentation[rfm_segmentation['F_Quartile']==4]))\n",
    "print(\"Big Spenders: \",len(rfm_segmentation[rfm_segmentation['M_Quartile']==4]))\n",
    "print('Almost Lost: ', len(rfm_segmentation[rfm_segmentation['RFMScore']=='244']))\n",
    "print('Lost Customers: ',len(rfm_segmentation[rfm_segmentation['RFMScore']=='144']))\n",
    "print('Lost Cheap Customers: ',len(rfm_segmentation[rfm_segmentation['RFMScore']=='111']))"
   ]
  }
 ],
 "metadata": {
  "kernelspec": {
   "display_name": "Python 3 (ipykernel)",
   "language": "python",
   "name": "python3"
  },
  "language_info": {
   "codemirror_mode": {
    "name": "ipython",
    "version": 3
   },
   "file_extension": ".py",
   "mimetype": "text/x-python",
   "name": "python",
   "nbconvert_exporter": "python",
   "pygments_lexer": "ipython3",
   "version": "3.12.1"
  },
  "latex_envs": {
   "LaTeX_envs_menu_present": true,
   "autoclose": false,
   "autocomplete": true,
   "bibliofile": "biblio.bib",
   "cite_by": "apalike",
   "current_citInitial": 1,
   "eqLabelWithNumbers": true,
   "eqNumInitial": 1,
   "hotkeys": {
    "equation": "Ctrl-E",
    "itemize": "Ctrl-I"
   },
   "labels_anchors": false,
   "latex_user_defs": false,
   "report_style_numbering": false,
   "user_envs_cfg": false
  },
  "toc": {
   "base_numbering": 1,
   "nav_menu": {},
   "number_sections": true,
   "sideBar": true,
   "skip_h1_title": false,
   "title_cell": "Table of Contents",
   "title_sidebar": "Contents",
   "toc_cell": false,
   "toc_position": {
    "height": "calc(100% - 180px)",
    "left": "10px",
    "top": "150px",
    "width": "294px"
   },
   "toc_section_display": true,
   "toc_window_display": true
  }
 },
 "nbformat": 4,
 "nbformat_minor": 5
}
